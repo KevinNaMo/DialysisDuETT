{
 "cells": [
  {
   "cell_type": "code",
   "execution_count": null,
   "metadata": {},
   "outputs": [],
   "source": [
    "import os\n",
    "import pandas as pd\n",
    "import numpy as np\n",
    "from dotenv import load_dotenv\n",
    "\n",
    "# Load environment variables\n",
    "load_dotenv(dotenv_path='/home/jovyan/work/Medicina/DuETT - DP/DialysisDuETT/.env')\n",
    "\n",
    "# Define target keys and retrieve pickle file paths from .env\n",
    "target_keys = ['ANALITICAS', 'PACIENTES']\n",
    "target_paths = {}\n",
    "for key in target_keys:\n",
    "    path = os.getenv(key)\n",
    "    if path is None:\n",
    "        print(f\"Warning: Environment variable {key} not found in the .env file.\")\n",
    "    else:\n",
    "        target_paths[key] = path\n",
    "\n",
    "# Load the pickle files into DataFrames\n",
    "dataframes = {}\n",
    "for key, pkl_path in target_paths.items():\n",
    "    if os.path.exists(pkl_path):\n",
    "        try:\n",
    "            df = pd.read_pickle(pkl_path)\n",
    "            dataframes[key] = df\n",
    "            print(f\"Loaded DataFrame for '{key}' from '{pkl_path}'.\")\n",
    "        except Exception as e:\n",
    "            print(f\"Error loading pickle file for '{key}' from '{pkl_path}': {e}\")\n",
    "    else:\n",
    "        print(f\"Pickle file for '{key}' not found at '{pkl_path}'.\")\n",
    "\n",
    "# Extract the dataframes\n",
    "ANALITICAS = dataframes.get('ANALITICAS')\n",
    "PACIENTES = dataframes.get('PACIENTES')\n",
    "\n",
    "if ANALITICAS is None or PACIENTES is None:\n",
    "    print(\"Error: Required dataframes not loaded. Exiting.\")\n",
    "    exit(1)\n",
    "\n",
    "# Ensure the FECHA column is in datetime format\n",
    "ANALITICAS['FECHA'] = pd.to_datetime(ANALITICAS['FECHA'])"
   ]
  },
  {
   "cell_type": "markdown",
   "metadata": {},
   "source": [
    "## Filter patients with avg_diff_days > 80"
   ]
  },
  {
   "cell_type": "code",
   "execution_count": null,
   "metadata": {},
   "outputs": [],
   "source": [
    "\n",
    "# Sort the DataFrame by patient and date\n",
    "ANALITICAS.sort_values(['REGISTRO', 'FECHA'], inplace=True)\n",
    "\n",
    "# Calculate the difference in days between consecutive measurements for each patient\n",
    "ANALITICAS['diff_days'] = ANALITICAS.groupby('REGISTRO')['FECHA'].diff().dt.days\n",
    "\n",
    "# Calculate the average interval for every patient (ignoring NaN values)\n",
    "patient_avg_interval = ANALITICAS.groupby('REGISTRO')['diff_days'].mean()\n",
    "\n",
    "# Filter to get patients with average interval <= 80 days\n",
    "patients_to_keep = patient_avg_interval[patient_avg_interval <= 80].index.tolist()\n",
    "\n",
    "# Create filtered dataframes\n",
    "PACIENTES_f = PACIENTES[PACIENTES['REGISTRO'].isin(patients_to_keep)].copy()\n",
    "ANALITICAS_f = ANALITICAS[ANALITICAS['REGISTRO'].isin(patients_to_keep)].copy()\n",
    "\n",
    "# Save the filtered dataframes as pickle files\n",
    "output_dir = os.path.dirname(target_paths['PACIENTES'])\n",
    "pacientes_f_path = os.path.join(output_dir, 'PACIENTES_f.pkl')\n",
    "analiticas_f_path = os.path.join(output_dir, 'ANALITICAS_f.pkl')\n",
    "\n",
    "PACIENTES_f.to_pickle(pacientes_f_path)\n",
    "ANALITICAS_f.to_pickle(analiticas_f_path)\n",
    "\n",
    "print(\"\\nSummary:\")\n",
    "print(f\"Original PACIENTES: {len(PACIENTES)} rows\")\n",
    "print(f\"Filtered PACIENTES_f: {len(PACIENTES_f)} rows ({len(PACIENTES_f)/len(PACIENTES)*100:.2f}%)\")\n",
    "print(f\"Original ANALITICAS: {len(ANALITICAS)} rows\")\n",
    "print(f\"Filtered ANALITICAS_f: {len(ANALITICAS_f)} rows ({len(ANALITICAS_f)/len(ANALITICAS)*100:.2f}%)\")"
   ]
  }
 ],
 "metadata": {
  "kernelspec": {
   "display_name": "Python 3 (ipykernel)",
   "language": "python",
   "name": "python3"
  },
  "language_info": {
   "codemirror_mode": {
    "name": "ipython",
    "version": 3
   },
   "file_extension": ".py",
   "mimetype": "text/x-python",
   "name": "python",
   "nbconvert_exporter": "python",
   "pygments_lexer": "ipython3",
   "version": "3.12.9"
  }
 },
 "nbformat": 4,
 "nbformat_minor": 2
}
